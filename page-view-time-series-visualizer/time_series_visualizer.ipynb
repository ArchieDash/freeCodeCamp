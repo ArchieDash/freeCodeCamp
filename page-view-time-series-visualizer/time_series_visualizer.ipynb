{
 "cells": [
  {
   "cell_type": "code",
   "execution_count": null,
   "metadata": {},
   "outputs": [],
   "source": [
    "import pandas as pd\n",
    "import matplotlib.pyplot as plt\n",
    "from pandas.plotting import register_matplotlib_converters\n",
    "register_matplotlib_converters()"
   ]
  },
  {
   "cell_type": "code",
   "execution_count": null,
   "metadata": {},
   "outputs": [],
   "source": [
    "df = pd.read_csv(\"fcc-forum-pageviews.csv\", parse_dates = [\"date\"], index_col=[\"date\"])\n",
    "df"
   ]
  },
  {
   "cell_type": "code",
   "execution_count": null,
   "metadata": {},
   "outputs": [],
   "source": [
    "df = df[(df[\"value\"] > df[\"value\"].quantile(0.025)) & (df[\"value\"] < df[\"value\"].quantile(0.975))]\n",
    "# do not take measurements of the top and bottom 2.5% of the DataFrame\n",
    "df"
   ]
  },
  {
   "cell_type": "code",
   "execution_count": null,
   "metadata": {},
   "outputs": [],
   "source": [
    "plt.figure(figsize=(15,5))\n",
    "plt.title(\"Daily freeCodeCamp Forum Page Views 5/2016-12/2019\")\n",
    "plt.xlabel(\"Date\")\n",
    "plt.ylabel(\"Page Views\")\n",
    "plt.plot(df.index, df['value'], color='red', linewidth=1)\n",
    "plt.savefig(\"freeCodeCamp_views.png\")\n",
    "plt.show()"
   ]
  },
  {
   "cell_type": "code",
   "execution_count": null,
   "metadata": {},
   "outputs": [],
   "source": [
    "df_bar = df.copy()\n",
    "df[\"month\"] = df.index.month\n",
    "df[\"year\"] = df.index.year\n",
    "df_bar = df.groupby([\"year\", \"month\"])[\"value\"].mean()\n",
    "df_bar"
   ]
  },
  {
   "cell_type": "code",
   "execution_count": null,
   "metadata": {
    "scrolled": true
   },
   "outputs": [],
   "source": [
    "df_bar = df_bar.unstack()\n",
    "df_bar"
   ]
  },
  {
   "cell_type": "code",
   "execution_count": null,
   "metadata": {},
   "outputs": [],
   "source": [
    "fig = df_bar.plot(kind =\"bar\", legend = True, figsize = (15,10)).figure\n",
    "plt.xlabel(\"Years\", fontsize= 20)\n",
    "plt.ylabel(\"Average Page Views\", fontsize= 20)\n",
    "plt.xticks(fontsize = 10)\n",
    "plt.yticks(fontsize = 10)\n",
    "plt.legend(fontsize = 10, title=\"Months\", labels = [\"January\",\n",
    "                                                    \"February\",\n",
    "                                                    \"March\",\n",
    "                                                    \"April\",\n",
    "                                                    \"May\",\n",
    "                                                    \"June\",\n",
    "                                                    \"July\",\n",
    "                                                    \"August\",\n",
    "                                                    \"September\",\n",
    "                                                    \"October\",\n",
    "                                                    \"November\",\n",
    "                                                    \"December\"])\n",
    "plt.savefig(\"moth_annual_bar.png\")"
   ]
  }
 ],
 "metadata": {
  "kernelspec": {
   "display_name": "Python 3",
   "language": "python",
   "name": "python3"
  },
  "language_info": {
   "codemirror_mode": {
    "name": "ipython",
    "version": 3
   },
   "file_extension": ".py",
   "mimetype": "text/x-python",
   "name": "python",
   "nbconvert_exporter": "python",
   "pygments_lexer": "ipython3",
   "version": "3.7.4"
  }
 },
 "nbformat": 4,
 "nbformat_minor": 2
}
